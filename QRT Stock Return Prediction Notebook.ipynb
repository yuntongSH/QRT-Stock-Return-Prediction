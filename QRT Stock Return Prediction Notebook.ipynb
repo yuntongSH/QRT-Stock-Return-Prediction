    "# Use logistic regression directly for ensemble predictions\n",
    "ensemble_pred_prob = meta_model.predict_proba(meta_X)[:, 1]\n",
    "meta_test_X = np.vstack([rf_pred_prob_test, xgb_pred_prob_test, cat_pred_prob_test, nn_pred_prob_test]).T\n",
    "ensemble_pred_prob_test = meta_model.predict_proba(meta_test_X)[:, 1]\n",
